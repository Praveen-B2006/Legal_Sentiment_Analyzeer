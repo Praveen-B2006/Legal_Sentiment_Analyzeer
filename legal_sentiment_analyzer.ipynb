{
 "cells": [
  {
   "cell_type": "code",
   "execution_count": 1,
   "metadata": {
    "colab": {
     "base_uri": "https://localhost:8080/"
    },
    "executionInfo": {
     "elapsed": 16358,
     "status": "ok",
     "timestamp": 1750683944709,
     "user": {
      "displayName": "Manmohan",
      "userId": "02258528467929963252"
     },
     "user_tz": -330
    },
    "id": "vgQ25RB5SML2",
    "outputId": "3fdcabea-4223-4d0c-9ab7-6a00d879842b"
   },
   "outputs": [
    {
     "name": "stdout",
     "output_type": "stream",
     "text": [
      "Requirement already satisfied: wget in /usr/local/lib/python3.11/dist-packages (3.2)\n",
      "Requirement already satisfied: threadpoolctl>=3.1.0 in /usr/local/lib/python3.11/dist-packages (from scikit-learn) (3.6.0)\n",
      "Requirement already satisfied: six>=1.10.0 in /usr/local/lib/python3.11/dist-packages (from lomond->ibm-watson-machine-learning>=1.0.310) (1.17.0)\n"
     ]
    }
   ],
   "source": [
    "!pip install wget | tail -n 1\n",
    "!pip install scikit-learn | tail -n 1\n",
    "!pip install \"ibm-watson-machine-learning>=1.0.310\" | tail -n 1"
   ]
  },
  {
   "cell_type": "code",
   "execution_count": 2,
   "metadata": {
    "colab": {
     "base_uri": "https://localhost:8080/"
    },
    "executionInfo": {
     "elapsed": 9628,
     "status": "ok",
     "timestamp": 1750683973486,
     "user": {
      "displayName": "Manmohan",
      "userId": "02258528467929963252"
     },
     "user_tz": -330
    },
    "id": "H2COU7omSr07",
    "outputId": "2ce11cea-8de5-49ac-c4e4-c41608a5e585"
   },
   "outputs": [
    {
     "name": "stdout",
     "output_type": "stream",
     "text": [
      "Successfully installed boto3-1.38.41 botocore-1.38.41 s3transfer-0.13.0\n"
     ]
    }
   ],
   "source": [
    "!pip install boto3 | tail -n 1"
   ]
  },
  {
   "cell_type": "code",
   "execution_count": 3,
   "metadata": {
    "executionInfo": {
     "elapsed": 8530,
     "status": "ok",
     "timestamp": 1750684163983,
     "user": {
      "displayName": "Manmohan",
      "userId": "02258528467929963252"
     },
     "user_tz": -330
    },
    "id": "nYhGoeGvSm57"
   },
   "outputs": [],
   "source": [
    "# --- 2. Imports ---\n",
    "import os\n",
    "import json\n",
    "import types\n",
    "import pandas as pd\n",
    "import numpy as np\n",
    "from botocore.client import Config\n",
    "import ibm_boto3\n",
    "from sklearn.model_selection import train_test_split\n",
    "from sklearn.metrics import classification_report, confusion_matrix\n",
    "from ibm_watson_machine_learning.foundation_models.utils.enums import ModelTypes\n",
    "from ibm_watson_machine_learning.metanames import GenTextParamsMetaNames as GenParams\n",
    "from ibm_watson_machine_learning.foundation_models import Model"
   ]
  },
  {
   "cell_type": "code",
   "execution_count": 4,
   "metadata": {
    "colab": {
     "base_uri": "https://localhost:8080/"
    },
    "executionInfo": {
     "elapsed": 18327,
     "status": "ok",
     "timestamp": 1750684260103,
     "user": {
      "displayName": "Manmohan",
      "userId": "02258528467929963252"
     },
     "user_tz": -330
    },
    "id": "oBsTewauTAcs",
    "outputId": "85fead54-6eda-468d-efc1-cbd94a4cac0d"
   },
   "outputs": [
    {
     "name": "stdout",
     "output_type": "stream",
     "text": [
      "Enter your IBM API Key: DXF0v8D7305fkKYf1wFf-KOqaBA-WB-xlz6hs2mUESK7\n"
     ]
    }
   ],
   "source": [
    "# --- 3. Set up IBM Credentials ---\n",
    "credentials = {\n",
    "    \"url\": \"https://us-south.ml.cloud.ibm.com\",\n",
    "    \"apikey\": input(\"Enter your IBM API Key: \").strip()\n",
    "}"
   ]
  },
  {
   "cell_type": "code",
   "execution_count": 5,
   "metadata": {
    "colab": {
     "base_uri": "https://localhost:8080/"
    },
    "executionInfo": {
     "elapsed": 4031,
     "status": "ok",
     "timestamp": 1750684322300,
     "user": {
      "displayName": "Manmohan",
      "userId": "02258528467929963252"
     },
     "user_tz": -330
    },
    "id": "E4AyUXBNTIhz",
    "outputId": "938e2f59-db85-4741-c938-d6e8d4f08082"
   },
   "outputs": [
    {
     "name": "stdout",
     "output_type": "stream",
     "text": [
      "Enter your project_id (or press Enter if none): 0189bdeb-204a-4c83-a3e9-b2ce61641d97\n"
     ]
    }
   ],
   "source": [
    "project_id = os.environ.get(\"PROJECT_ID\", input(\"Enter your project_id (or press Enter if none): \"))\n"
   ]
  },
  {
   "cell_type": "code",
   "execution_count": 6,
   "metadata": {
    "executionInfo": {
     "elapsed": 488,
     "status": "ok",
     "timestamp": 1750684415118,
     "user": {
      "displayName": "Manmohan",
      "userId": "02258528467929963252"
     },
     "user_tz": -330
    },
    "id": "d4DE6OsnTLqz"
   },
   "outputs": [],
   "source": [
    "# --- 4. Connect to COS & Load Dataset ---\n",
    "cos_client = ibm_boto3.client(service_name='s3',\n",
    "    ibm_api_key_id=credentials['apikey'],\n",
    "    ibm_auth_endpoint='https://iam.cloud.ibm.com/oidc/token',\n",
    "    config=Config(signature_version='oauth'),\n",
    "    endpoint_url='https://s3.us-south.cloud-object-storage.appdomain.cloud'\n",
    ")"
   ]
  },
  {
   "cell_type": "code",
   "execution_count": 7,
   "metadata": {
    "colab": {
     "base_uri": "https://localhost:8080/"
    },
    "executionInfo": {
     "elapsed": 10481,
     "status": "ok",
     "timestamp": 1750684428629,
     "user": {
      "displayName": "Manmohan",
      "userId": "02258528467929963252"
     },
     "user_tz": -330
    },
    "id": "pjw7NTlkTSwB",
    "outputId": "1773c3fc-0a76-4bc8-bb74-c2504d4fd4e9"
   },
   "outputs": [
    {
     "name": "stdout",
     "output_type": "stream",
     "text": [
      "Enter your COS bucket name: handson-6-27333\n",
      "Enter your dataset file name (e.g., legal_sentiment.csv): legal_sentiment_dataset (1).csv\n"
     ]
    }
   ],
   "source": [
    "bucket = input(\"Enter your COS bucket name: \").strip()\n",
    "object_key = input(\"Enter your dataset file name (e.g., legal_sentiment.csv): \").strip()"
   ]
  },
  {
   "cell_type": "code",
   "execution_count": 14,
   "metadata": {
    "executionInfo": {
     "elapsed": 479,
     "status": "ok",
     "timestamp": 1750684577733,
     "user": {
      "displayName": "Manmohan",
      "userId": "02258528467929963252"
     },
     "user_tz": -330
    },
    "id": "RqFuOuXvTdjt"
   },
   "outputs": [],
   "source": [
    "body = cos_client.get_object(Bucket=bucket, Key=object_key)['Body']\n",
    "if not hasattr(body, \"_iter_\"):\n",
    "    def _iter_(self): yield from self\n",
    "    body._iter_ = types.MethodType(_iter_, body)"
   ]
  },
  {
   "cell_type": "code",
   "execution_count": 15,
   "metadata": {
    "colab": {
     "base_uri": "https://localhost:8080/",
     "height": 206
    },
    "executionInfo": {
     "elapsed": 787,
     "status": "ok",
     "timestamp": 1750684580602,
     "user": {
      "displayName": "Manmohan",
      "userId": "02258528467929963252"
     },
     "user_tz": -330
    },
    "id": "-mwf-SbMTp0V",
    "outputId": "50a76c7c-e9e7-4644-b472-2f288791d662"
   },
   "outputs": [
    {
     "data": {
      "application/vnd.google.colaboratory.intrinsic+json": {
       "summary": "{\n  \"name\": \"data\",\n  \"rows\": 500,\n  \"fields\": [\n    {\n      \"column\": \"ID\",\n      \"properties\": {\n        \"dtype\": \"number\",\n        \"std\": 144,\n        \"min\": 1,\n        \"max\": 500,\n        \"num_unique_values\": 500,\n        \"samples\": [\n          362,\n          74,\n          375\n        ],\n        \"semantic_type\": \"\",\n        \"description\": \"\"\n      }\n    },\n    {\n      \"column\": \"Phrase\",\n      \"properties\": {\n        \"dtype\": \"category\",\n        \"num_unique_values\": 15,\n        \"samples\": [\n          \"The defendant is found guilty.\",\n          \"The court finds in favor of the plaintiff.\",\n          \"The plaintiff's claims are dismissed.\"\n        ],\n        \"semantic_type\": \"\",\n        \"description\": \"\"\n      }\n    },\n    {\n      \"column\": \"Sentiment\",\n      \"properties\": {\n        \"dtype\": \"number\",\n        \"std\": 0,\n        \"min\": -1,\n        \"max\": 1,\n        \"num_unique_values\": 3,\n        \"samples\": [\n          -1,\n          1,\n          0\n        ],\n        \"semantic_type\": \"\",\n        \"description\": \"\"\n      }\n    }\n  ]\n}",
       "type": "dataframe",
       "variable_name": "data"
      },
      "text/html": [
       "\n",
       "  <div id=\"df-f1a1eb72-29ab-4ead-85ee-13fe19c28b8c\" class=\"colab-df-container\">\n",
       "    <div>\n",
       "<style scoped>\n",
       "    .dataframe tbody tr th:only-of-type {\n",
       "        vertical-align: middle;\n",
       "    }\n",
       "\n",
       "    .dataframe tbody tr th {\n",
       "        vertical-align: top;\n",
       "    }\n",
       "\n",
       "    .dataframe thead th {\n",
       "        text-align: right;\n",
       "    }\n",
       "</style>\n",
       "<table border=\"1\" class=\"dataframe\">\n",
       "  <thead>\n",
       "    <tr style=\"text-align: right;\">\n",
       "      <th></th>\n",
       "      <th>ID</th>\n",
       "      <th>Phrase</th>\n",
       "      <th>Sentiment</th>\n",
       "    </tr>\n",
       "  </thead>\n",
       "  <tbody>\n",
       "    <tr>\n",
       "      <th>0</th>\n",
       "      <td>1</td>\n",
       "      <td>The plaintiff's claims are dismissed.</td>\n",
       "      <td>-1</td>\n",
       "    </tr>\n",
       "    <tr>\n",
       "      <th>1</th>\n",
       "      <td>2</td>\n",
       "      <td>The contract is deemed valid and enforceable.</td>\n",
       "      <td>1</td>\n",
       "    </tr>\n",
       "    <tr>\n",
       "      <th>2</th>\n",
       "      <td>3</td>\n",
       "      <td>The appeal is denied due to lack of merit.</td>\n",
       "      <td>-1</td>\n",
       "    </tr>\n",
       "    <tr>\n",
       "      <th>3</th>\n",
       "      <td>4</td>\n",
       "      <td>The legal team submitted additional evidence.</td>\n",
       "      <td>0</td>\n",
       "    </tr>\n",
       "    <tr>\n",
       "      <th>4</th>\n",
       "      <td>5</td>\n",
       "      <td>The appeal is under consideration.</td>\n",
       "      <td>0</td>\n",
       "    </tr>\n",
       "  </tbody>\n",
       "</table>\n",
       "</div>\n",
       "    <div class=\"colab-df-buttons\">\n",
       "\n",
       "  <div class=\"colab-df-container\">\n",
       "    <button class=\"colab-df-convert\" onclick=\"convertToInteractive('df-f1a1eb72-29ab-4ead-85ee-13fe19c28b8c')\"\n",
       "            title=\"Convert this dataframe to an interactive table.\"\n",
       "            style=\"display:none;\">\n",
       "\n",
       "  <svg xmlns=\"http://www.w3.org/2000/svg\" height=\"24px\" viewBox=\"0 -960 960 960\">\n",
       "    <path d=\"M120-120v-720h720v720H120Zm60-500h600v-160H180v160Zm220 220h160v-160H400v160Zm0 220h160v-160H400v160ZM180-400h160v-160H180v160Zm440 0h160v-160H620v160ZM180-180h160v-160H180v160Zm440 0h160v-160H620v160Z\"/>\n",
       "  </svg>\n",
       "    </button>\n",
       "\n",
       "  <style>\n",
       "    .colab-df-container {\n",
       "      display:flex;\n",
       "      gap: 12px;\n",
       "    }\n",
       "\n",
       "    .colab-df-convert {\n",
       "      background-color: #E8F0FE;\n",
       "      border: none;\n",
       "      border-radius: 50%;\n",
       "      cursor: pointer;\n",
       "      display: none;\n",
       "      fill: #1967D2;\n",
       "      height: 32px;\n",
       "      padding: 0 0 0 0;\n",
       "      width: 32px;\n",
       "    }\n",
       "\n",
       "    .colab-df-convert:hover {\n",
       "      background-color: #E2EBFA;\n",
       "      box-shadow: 0px 1px 2px rgba(60, 64, 67, 0.3), 0px 1px 3px 1px rgba(60, 64, 67, 0.15);\n",
       "      fill: #174EA6;\n",
       "    }\n",
       "\n",
       "    .colab-df-buttons div {\n",
       "      margin-bottom: 4px;\n",
       "    }\n",
       "\n",
       "    [theme=dark] .colab-df-convert {\n",
       "      background-color: #3B4455;\n",
       "      fill: #D2E3FC;\n",
       "    }\n",
       "\n",
       "    [theme=dark] .colab-df-convert:hover {\n",
       "      background-color: #434B5C;\n",
       "      box-shadow: 0px 1px 3px 1px rgba(0, 0, 0, 0.15);\n",
       "      filter: drop-shadow(0px 1px 2px rgba(0, 0, 0, 0.3));\n",
       "      fill: #FFFFFF;\n",
       "    }\n",
       "  </style>\n",
       "\n",
       "    <script>\n",
       "      const buttonEl =\n",
       "        document.querySelector('#df-f1a1eb72-29ab-4ead-85ee-13fe19c28b8c button.colab-df-convert');\n",
       "      buttonEl.style.display =\n",
       "        google.colab.kernel.accessAllowed ? 'block' : 'none';\n",
       "\n",
       "      async function convertToInteractive(key) {\n",
       "        const element = document.querySelector('#df-f1a1eb72-29ab-4ead-85ee-13fe19c28b8c');\n",
       "        const dataTable =\n",
       "          await google.colab.kernel.invokeFunction('convertToInteractive',\n",
       "                                                    [key], {});\n",
       "        if (!dataTable) return;\n",
       "\n",
       "        const docLinkHtml = 'Like what you see? Visit the ' +\n",
       "          '<a target=\"_blank\" href=https://colab.research.google.com/notebooks/data_table.ipynb>data table notebook</a>'\n",
       "          + ' to learn more about interactive tables.';\n",
       "        element.innerHTML = '';\n",
       "        dataTable['output_type'] = 'display_data';\n",
       "        await google.colab.output.renderOutput(dataTable, element);\n",
       "        const docLink = document.createElement('div');\n",
       "        docLink.innerHTML = docLinkHtml;\n",
       "        element.appendChild(docLink);\n",
       "      }\n",
       "    </script>\n",
       "  </div>\n",
       "\n",
       "\n",
       "    <div id=\"df-91b94a61-443c-4151-8ac7-b9c56a0ef00b\">\n",
       "      <button class=\"colab-df-quickchart\" onclick=\"quickchart('df-91b94a61-443c-4151-8ac7-b9c56a0ef00b')\"\n",
       "                title=\"Suggest charts\"\n",
       "                style=\"display:none;\">\n",
       "\n",
       "<svg xmlns=\"http://www.w3.org/2000/svg\" height=\"24px\"viewBox=\"0 0 24 24\"\n",
       "     width=\"24px\">\n",
       "    <g>\n",
       "        <path d=\"M19 3H5c-1.1 0-2 .9-2 2v14c0 1.1.9 2 2 2h14c1.1 0 2-.9 2-2V5c0-1.1-.9-2-2-2zM9 17H7v-7h2v7zm4 0h-2V7h2v10zm4 0h-2v-4h2v4z\"/>\n",
       "    </g>\n",
       "</svg>\n",
       "      </button>\n",
       "\n",
       "<style>\n",
       "  .colab-df-quickchart {\n",
       "      --bg-color: #E8F0FE;\n",
       "      --fill-color: #1967D2;\n",
       "      --hover-bg-color: #E2EBFA;\n",
       "      --hover-fill-color: #174EA6;\n",
       "      --disabled-fill-color: #AAA;\n",
       "      --disabled-bg-color: #DDD;\n",
       "  }\n",
       "\n",
       "  [theme=dark] .colab-df-quickchart {\n",
       "      --bg-color: #3B4455;\n",
       "      --fill-color: #D2E3FC;\n",
       "      --hover-bg-color: #434B5C;\n",
       "      --hover-fill-color: #FFFFFF;\n",
       "      --disabled-bg-color: #3B4455;\n",
       "      --disabled-fill-color: #666;\n",
       "  }\n",
       "\n",
       "  .colab-df-quickchart {\n",
       "    background-color: var(--bg-color);\n",
       "    border: none;\n",
       "    border-radius: 50%;\n",
       "    cursor: pointer;\n",
       "    display: none;\n",
       "    fill: var(--fill-color);\n",
       "    height: 32px;\n",
       "    padding: 0;\n",
       "    width: 32px;\n",
       "  }\n",
       "\n",
       "  .colab-df-quickchart:hover {\n",
       "    background-color: var(--hover-bg-color);\n",
       "    box-shadow: 0 1px 2px rgba(60, 64, 67, 0.3), 0 1px 3px 1px rgba(60, 64, 67, 0.15);\n",
       "    fill: var(--button-hover-fill-color);\n",
       "  }\n",
       "\n",
       "  .colab-df-quickchart-complete:disabled,\n",
       "  .colab-df-quickchart-complete:disabled:hover {\n",
       "    background-color: var(--disabled-bg-color);\n",
       "    fill: var(--disabled-fill-color);\n",
       "    box-shadow: none;\n",
       "  }\n",
       "\n",
       "  .colab-df-spinner {\n",
       "    border: 2px solid var(--fill-color);\n",
       "    border-color: transparent;\n",
       "    border-bottom-color: var(--fill-color);\n",
       "    animation:\n",
       "      spin 1s steps(1) infinite;\n",
       "  }\n",
       "\n",
       "  @keyframes spin {\n",
       "    0% {\n",
       "      border-color: transparent;\n",
       "      border-bottom-color: var(--fill-color);\n",
       "      border-left-color: var(--fill-color);\n",
       "    }\n",
       "    20% {\n",
       "      border-color: transparent;\n",
       "      border-left-color: var(--fill-color);\n",
       "      border-top-color: var(--fill-color);\n",
       "    }\n",
       "    30% {\n",
       "      border-color: transparent;\n",
       "      border-left-color: var(--fill-color);\n",
       "      border-top-color: var(--fill-color);\n",
       "      border-right-color: var(--fill-color);\n",
       "    }\n",
       "    40% {\n",
       "      border-color: transparent;\n",
       "      border-right-color: var(--fill-color);\n",
       "      border-top-color: var(--fill-color);\n",
       "    }\n",
       "    60% {\n",
       "      border-color: transparent;\n",
       "      border-right-color: var(--fill-color);\n",
       "    }\n",
       "    80% {\n",
       "      border-color: transparent;\n",
       "      border-right-color: var(--fill-color);\n",
       "      border-bottom-color: var(--fill-color);\n",
       "    }\n",
       "    90% {\n",
       "      border-color: transparent;\n",
       "      border-bottom-color: var(--fill-color);\n",
       "    }\n",
       "  }\n",
       "</style>\n",
       "\n",
       "      <script>\n",
       "        async function quickchart(key) {\n",
       "          const quickchartButtonEl =\n",
       "            document.querySelector('#' + key + ' button');\n",
       "          quickchartButtonEl.disabled = true;  // To prevent multiple clicks.\n",
       "          quickchartButtonEl.classList.add('colab-df-spinner');\n",
       "          try {\n",
       "            const charts = await google.colab.kernel.invokeFunction(\n",
       "                'suggestCharts', [key], {});\n",
       "          } catch (error) {\n",
       "            console.error('Error during call to suggestCharts:', error);\n",
       "          }\n",
       "          quickchartButtonEl.classList.remove('colab-df-spinner');\n",
       "          quickchartButtonEl.classList.add('colab-df-quickchart-complete');\n",
       "        }\n",
       "        (() => {\n",
       "          let quickchartButtonEl =\n",
       "            document.querySelector('#df-91b94a61-443c-4151-8ac7-b9c56a0ef00b button');\n",
       "          quickchartButtonEl.style.display =\n",
       "            google.colab.kernel.accessAllowed ? 'block' : 'none';\n",
       "        })();\n",
       "      </script>\n",
       "    </div>\n",
       "\n",
       "    </div>\n",
       "  </div>\n"
      ],
      "text/plain": [
       "   ID                                         Phrase  Sentiment\n",
       "0   1          The plaintiff's claims are dismissed.         -1\n",
       "1   2  The contract is deemed valid and enforceable.          1\n",
       "2   3     The appeal is denied due to lack of merit.         -1\n",
       "3   4  The legal team submitted additional evidence.          0\n",
       "4   5             The appeal is under consideration.          0"
      ]
     },
     "execution_count": 15,
     "metadata": {},
     "output_type": "execute_result"
    }
   ],
   "source": [
    "data = pd.read_csv(body)\n",
    "data.head()"
   ]
  },
  {
   "cell_type": "code",
   "execution_count": 16,
   "metadata": {
    "colab": {
     "base_uri": "https://localhost:8080/"
    },
    "executionInfo": {
     "elapsed": 605,
     "status": "ok",
     "timestamp": 1750684711905,
     "user": {
      "displayName": "Manmohan",
      "userId": "02258528467929963252"
     },
     "user_tz": -330
    },
    "id": "Xf0Cri1wTsPD",
    "outputId": "bb7ede1d-16db-4c7d-f798-a9dfbad9d40c"
   },
   "outputs": [
    {
     "name": "stdout",
     "output_type": "stream",
     "text": [
      "Sentiment\n",
      "positive    184\n",
      "negative    167\n",
      "neutral     149\n",
      "Name: count, dtype: int64\n"
     ]
    }
   ],
   "source": [
    "# --- 5. Data Cleaning ---\n",
    "label_map = {-1: 'negative', 0: 'neutral', 1: 'positive'}\n",
    "data = data.dropna(subset=['Phrase', 'Sentiment'])\n",
    "data['Sentiment'] = data['Sentiment'].astype(int)\n",
    "data['Sentiment'] = data['Sentiment'].map(label_map)\n",
    "print(data['Sentiment'].value_counts())"
   ]
  },
  {
   "cell_type": "code",
   "execution_count": 17,
   "metadata": {
    "executionInfo": {
     "elapsed": 516,
     "status": "ok",
     "timestamp": 1750684792693,
     "user": {
      "displayName": "Manmohan",
      "userId": "02258528467929963252"
     },
     "user_tz": -330
    },
    "id": "5gaHwiZMTut4"
   },
   "outputs": [],
   "source": [
    "# --- 6. Train-Test Split ---\n",
    "data_train, data_test = train_test_split(data, test_size=0.3, random_state=42, stratify=data['Sentiment'])"
   ]
  },
  {
   "cell_type": "code",
   "execution_count": 18,
   "metadata": {
    "executionInfo": {
     "elapsed": 507,
     "status": "ok",
     "timestamp": 1750684867746,
     "user": {
      "displayName": "Manmohan",
      "userId": "02258528467929963252"
     },
     "user_tz": -330
    },
    "id": "c77XxjrGT5JG"
   },
   "outputs": [],
   "source": [
    "# --- 7. Setup IBM Foundation Model ---\n",
    "parameters = {\n",
    "    GenParams.DECODING_METHOD: \"greedy\",\n",
    "    GenParams.RANDOM_SEED: 42,\n",
    "    GenParams.REPETITION_PENALTY: 1,\n",
    "    GenParams.MIN_NEW_TOKENS: 1,\n",
    "    GenParams.MAX_NEW_TOKENS: 5\n",
    "}"
   ]
  },
  {
   "cell_type": "code",
   "execution_count": 19,
   "metadata": {
    "colab": {
     "base_uri": "https://localhost:8080/"
    },
    "executionInfo": {
     "elapsed": 2191,
     "status": "ok",
     "timestamp": 1750684872295,
     "user": {
      "displayName": "Manmohan",
      "userId": "02258528467929963252"
     },
     "user_tz": -330
    },
    "id": "9T8X50bTT8Tv",
    "outputId": "d1ac7503-d450-4b56-f2c3-dc980353da82"
   },
   "outputs": [
    {
     "name": "stderr",
     "output_type": "stream",
     "text": [
      "/usr/local/lib/python3.11/dist-packages/ibm_watson_machine_learning/foundation_models/utils/utils.py:273: LifecycleWarning: Model 'google/flan-t5-xxl' is in deprecated state from 2025-05-28 until 2025-07-30. IDs of alternative models: None. Further details: https://dataplatform.cloud.ibm.com/docs/content/wsj/analyze-data/fm-model-lifecycle.html?context=wx&audience=wdp\n",
      "  warnings.warn(default_warning_template.format(\n"
     ]
    },
    {
     "data": {
      "text/plain": [
       "{'model_id': 'google/flan-t5-xxl',\n",
       " 'label': 'flan-t5-xxl-11b',\n",
       " 'provider': 'Google',\n",
       " 'source': 'Hugging Face',\n",
       " 'functions': [{'id': 'text_generation'}],\n",
       " 'short_description': 'flan-t5-xxl is an 11 billion parameter model based on the Flan-T5 family.',\n",
       " 'long_description': 'flan-t5-xxl (11B) is an 11 billion parameter model based on the Flan-T5 family. It is a pretrained T5 - an encoder-decoder model pre-trained on a mixture of supervised / unsupervised tasks converted into a text-to-text format, and fine-tuned on the Fine-tuned Language Net (FLAN) with instructions for better zero-shot and few-shot performance.',\n",
       " 'terms_url': 'https://huggingface.co/google/flan-t5-xxl/blob/main/README.md',\n",
       " 'input_tier': 'class_2',\n",
       " 'output_tier': 'class_2',\n",
       " 'number_params': '11b',\n",
       " 'min_shot_size': 0,\n",
       " 'task_ids': ['question_answering',\n",
       "  'summarization',\n",
       "  'retrieval_augmented_generation',\n",
       "  'classification',\n",
       "  'generation',\n",
       "  'extraction'],\n",
       " 'tasks': [{'id': 'question_answering', 'ratings': {'quality': 4}},\n",
       "  {'id': 'summarization', 'ratings': {'quality': 4}},\n",
       "  {'id': 'retrieval_augmented_generation', 'ratings': {'quality': 3}},\n",
       "  {'id': 'classification', 'ratings': {'quality': 4}},\n",
       "  {'id': 'generation'},\n",
       "  {'id': 'extraction', 'ratings': {'quality': 4}}],\n",
       " 'model_limits': {'max_sequence_length': 4096, 'max_output_tokens': 4095},\n",
       " 'limits': {'lite': {'call_time': '5m0s', 'max_output_tokens': 4095},\n",
       "  'v2-professional': {'call_time': '10m0s', 'max_output_tokens': 4095},\n",
       "  'v2-standard': {'call_time': '10m0s', 'max_output_tokens': 4095}},\n",
       " 'lifecycle': [{'id': 'available', 'start_date': '2023-07-07'},\n",
       "  {'id': 'deprecated', 'start_date': '2025-05-28'},\n",
       "  {'id': 'withdrawn', 'start_date': '2025-07-30'}]}"
      ]
     },
     "execution_count": 19,
     "metadata": {},
     "output_type": "execute_result"
    }
   ],
   "source": [
    "model = Model(\n",
    "    model_id=ModelTypes.FLAN_T5_XXL,\n",
    "    params=parameters,\n",
    "    credentials=credentials,\n",
    "    project_id=project_id\n",
    ")\n",
    "model.get_details()"
   ]
  },
  {
   "cell_type": "code",
   "execution_count": 20,
   "metadata": {
    "executionInfo": {
     "elapsed": 511,
     "status": "ok",
     "timestamp": 1750684886389,
     "user": {
      "displayName": "Manmohan",
      "userId": "02258528467929963252"
     },
     "user_tz": -330
    },
    "id": "KhrVddHEUFwn"
   },
   "outputs": [],
   "source": [
    "# --- 8. Prepare Few-Shot Examples ---\n",
    "few_shot_examples = []\n",
    "for sentiment in data_train['Sentiment'].unique():\n",
    "    samples = data_train[data_train['Sentiment'] == sentiment].sample(2)\n",
    "    for _, row in samples.iterrows():\n",
    "        few_shot_examples.append(f\"sentence: {row['Phrase']}\\nsentiment: {row['Sentiment']}\")\n",
    "\n",
    "few_shot_context = \"\\n\".join(few_shot_examples)"
   ]
  },
  {
   "cell_type": "code",
   "execution_count": 23,
   "metadata": {
    "colab": {
     "base_uri": "https://localhost:8080/"
    },
    "executionInfo": {
     "elapsed": 631,
     "status": "ok",
     "timestamp": 1750685351444,
     "user": {
      "displayName": "Manmohan",
      "userId": "02258528467929963252"
     },
     "user_tz": -330
    },
    "id": "rg08pk8T-fnJ",
    "outputId": "568bc91b-28d8-482d-ef85-082a6221658d"
   },
   "outputs": [
    {
     "name": "stdout",
     "output_type": "stream",
     "text": [
      "sentence: The case was transferred to another jurisdiction.\n",
      "sentiment: neutral\n",
      "sentence: The court reviewed the documentation.\n",
      "sentiment: neutral\n",
      "sentence: The contract is deemed valid and enforceable.\n",
      "sentiment: positive\n",
      "sentence: The court finds in favor of the plaintiff.\n",
      "sentiment: positive\n",
      "sentence: The plaintiff's claims are dismissed.\n",
      "sentiment: negative\n",
      "sentence: The contract is declared void.\n",
      "sentiment: negative\n"
     ]
    }
   ],
   "source": [
    "print(few_shot_context)"
   ]
  },
  {
   "cell_type": "code",
   "execution_count": 21,
   "metadata": {
    "executionInfo": {
     "elapsed": 91018,
     "status": "ok",
     "timestamp": 1750685261276,
     "user": {
      "displayName": "Manmohan",
      "userId": "02258528467929963252"
     },
     "user_tz": -330
    },
    "id": "ZJpyw6R6UKKk"
   },
   "outputs": [],
   "source": [
    "instruction = \"\"\"Determine the sentiment of the following sentence (as 'positive', 'negative', or 'neutral')\n",
    ".Use the examples below as reference:\\n\" + few_shot_context + \"\\n\"\"\"\n",
    "\n",
    "# --- 9. Generate Predictions ---\n",
    "results = []\n",
    "for text in data_test['Phrase']:\n",
    "    prompt = instruction + f\"\\nsentence: {text}\\nsentiment:\"\n",
    "    result = model.generate(prompt)['results'][0]['generated_text']\n",
    "    results.append(result.strip().lower())"
   ]
  },
  {
   "cell_type": "code",
   "execution_count": 30,
   "metadata": {
    "executionInfo": {
     "elapsed": 753,
     "status": "ok",
     "timestamp": 1750685778485,
     "user": {
      "displayName": "Manmohan",
      "userId": "02258528467929963252"
     },
     "user_tz": -330
    },
    "id": "TPdsKsCRUMov"
   },
   "outputs": [],
   "source": [
    "# --- 10. Evaluation ---\n",
    "y_true = data_test['Sentiment'].values\n",
    "y_pred = results"
   ]
  },
  {
   "cell_type": "code",
   "execution_count": 29,
   "metadata": {
    "colab": {
     "base_uri": "https://localhost:8080/"
    },
    "executionInfo": {
     "elapsed": 491,
     "status": "ok",
     "timestamp": 1750685559976,
     "user": {
      "displayName": "Manmohan",
      "userId": "02258528467929963252"
     },
     "user_tz": -330
    },
    "id": "oG7kbvkMURYS",
    "outputId": "826989bb-5a4e-491b-e1ce-f68096ad2966"
   },
   "outputs": [
    {
     "name": "stdout",
     "output_type": "stream",
     "text": [
      "\n",
      "Classification Report:\n",
      "              precision    recall  f1-score   support\n",
      "\n",
      "    negative       0.83      1.00      0.91        50\n",
      "     neutral       1.00      1.00      1.00        45\n",
      "    positive       1.00      0.82      0.90        55\n",
      "\n",
      "    accuracy                           0.93       150\n",
      "   macro avg       0.94      0.94      0.94       150\n",
      "weighted avg       0.94      0.93      0.93       150\n",
      "\n"
     ]
    }
   ],
   "source": [
    "print(\"\\nClassification Report:\")\n",
    "print(classification_report(y_true, y_pred))"
   ]
  },
  {
   "cell_type": "code",
   "execution_count": 27,
   "metadata": {
    "colab": {
     "base_uri": "https://localhost:8080/"
    },
    "executionInfo": {
     "elapsed": 627,
     "status": "ok",
     "timestamp": 1750685513088,
     "user": {
      "displayName": "Manmohan",
      "userId": "02258528467929963252"
     },
     "user_tz": -330
    },
    "id": "k7N8-LFRUVRr",
    "outputId": "ae7ee0ab-ca7b-4726-ba53-fda0245c5f3a"
   },
   "outputs": [
    {
     "name": "stdout",
     "output_type": "stream",
     "text": [
      "\n",
      "Confusion Matrix:\n",
      "[[50  0  0]\n",
      " [ 0 45  0]\n",
      " [10  0 45]]\n"
     ]
    }
   ],
   "source": [
    "print(\"\\nConfusion Matrix:\")\n",
    "print(confusion_matrix(y_true, y_pred))"
   ]
  },
  {
   "cell_type": "code",
   "execution_count": 32,
   "metadata": {
    "colab": {
     "base_uri": "https://localhost:8080/"
    },
    "executionInfo": {
     "elapsed": 758,
     "status": "ok",
     "timestamp": 1750686237245,
     "user": {
      "displayName": "Manmohan",
      "userId": "02258528467929963252"
     },
     "user_tz": -330
    },
    "id": "Rncq95B_bgMz",
    "outputId": "309ba020-b646-4128-f0e9-8fd9c99ac560"
   },
   "outputs": [
    {
     "name": "stdout",
     "output_type": "stream",
     "text": [
      "\n",
      "Sentiment Distribution (%):\n",
      "{\n",
      "  \"neutral\": \"30.00%\",\n",
      "  \"positive\": \"30.00%\",\n",
      "  \"negative\": \"40.00%\"\n",
      "}\n"
     ]
    }
   ],
   "source": [
    "from collections import Counter\n",
    "from sklearn.feature_extraction.text import CountVectorizer\n",
    "# --- Sentiment Distribution ---\n",
    "sentiment_counts = Counter(y_pred)\n",
    "total = sum(sentiment_counts.values())\n",
    "summary_distribution = {sentiment: f\"{(count/total)*100:.2f}%\" for sentiment, count in sentiment_counts.items()}\n",
    "print(\"\\nSentiment Distribution (%):\")\n",
    "print(json.dumps(summary_distribution, indent=2))"
   ]
  },
  {
   "cell_type": "code",
   "execution_count": 33,
   "metadata": {
    "colab": {
     "base_uri": "https://localhost:8080/"
    },
    "executionInfo": {
     "elapsed": 497,
     "status": "ok",
     "timestamp": 1750686311174,
     "user": {
      "displayName": "Manmohan",
      "userId": "02258528467929963252"
     },
     "user_tz": -330
    },
    "id": "C8CvywnUbm1f",
    "outputId": "6a82a57e-4ecf-4e8d-c43a-f1c58989fcdd"
   },
   "outputs": [
    {
     "name": "stdout",
     "output_type": "stream",
     "text": [
      "\n",
      "Top Words/Phrases in Negative Sentences:\n",
      "['claims' 'claims dismissed' 'contract declared' 'declared void' 'denied'\n",
      " 'dismissed' 'motion' 'plaintiff' 'plaintiff claims' 'void']\n"
     ]
    }
   ],
   "source": [
    "# --- Top Words/Phrases for Negative Sentences ---\n",
    "negative_texts = data_test['Phrase'][np.array(y_pred) == 'negative']\n",
    "vectorizer = CountVectorizer(stop_words='english', ngram_range=(1,2), max_features=10)\n",
    "X = vectorizer.fit_transform(negative_texts)\n",
    "top_negative_words = vectorizer.get_feature_names_out()\n",
    "print(\"\\nTop Words/Phrases in Negative Sentences:\")\n",
    "print(top_negative_words)"
   ]
  },
  {
   "cell_type": "code",
   "execution_count": 38,
   "metadata": {
    "colab": {
     "base_uri": "https://localhost:8080/"
    },
    "executionInfo": {
     "elapsed": 501,
     "status": "ok",
     "timestamp": 1750686543899,
     "user": {
      "displayName": "Manmohan",
      "userId": "02258528467929963252"
     },
     "user_tz": -330
    },
    "id": "6ng0zRV6bqhE",
    "outputId": "a81b7ee6-03bd-45e5-97c4-65a278a83495"
   },
   "outputs": [
    {
     "name": "stdout",
     "output_type": "stream",
     "text": [
      "\n",
      "Summary Statement:\n",
      "The overall sentiment of this document is predominantly\n",
      " **negative** (40.00% of sentences).\n",
      " Frequent negative themes include: claims, claims dismissed, contract declared, declared void, denied, dismissed, motion, plaintiff, plaintiff claims, void.\n"
     ]
    }
   ],
   "source": [
    "# --- Summary Statement ---\n",
    "majority_sentiment = max(sentiment_counts, key=sentiment_counts.get)\n",
    "summary_statement = (\n",
    "    f\"The overall sentiment of this document is predominantly\\n **{majority_sentiment}** \"\n",
    "    f\"({summary_distribution[majority_sentiment]} of sentences).\\n \"\n",
    "    f\"Frequent negative themes include: {', '.join(top_negative_words)}.\"\n",
    ")\n",
    "print(\"\\nSummary Statement:\")\n",
    "print(summary_statement)"
   ]
  },
  {
   "cell_type": "code",
   "execution_count": 39,
   "metadata": {
    "colab": {
     "base_uri": "https://localhost:8080/"
    },
    "executionInfo": {
     "elapsed": 829,
     "status": "ok",
     "timestamp": 1750686616550,
     "user": {
      "displayName": "Manmohan",
      "userId": "02258528467929963252"
     },
     "user_tz": -330
    },
    "id": "fVEWXalmUWLt",
    "outputId": "f8f02e79-d19f-40c8-8bfd-5cc4023a5237"
   },
   "outputs": [
    {
     "name": "stdout",
     "output_type": "stream",
     "text": [
      "Results saved to legal_sentiment_results.csv\n"
     ]
    }
   ],
   "source": [
    "# --- 11. Output Results to File ---\n",
    "output_df = data_test.copy()\n",
    "output_df['Predicted Sentiment'] = y_pred\n",
    "output_df.to_csv(\"legal_sentiment_results.csv\", index=False)\n",
    "print(\"Results saved to legal_sentiment_results.csv\")\n"
   ]
  },
  {
   "cell_type": "code",
   "execution_count": 40,
   "metadata": {
    "colab": {
     "base_uri": "https://localhost:8080/"
    },
    "executionInfo": {
     "elapsed": 36349,
     "status": "ok",
     "timestamp": 1750686657916,
     "user": {
      "displayName": "Manmohan",
      "userId": "02258528467929963252"
     },
     "user_tz": -330
    },
    "id": "DD_aijudUbkR",
    "outputId": "a48552c6-20b1-4d10-8593-b355ab8f2aef"
   },
   "outputs": [
    {
     "name": "stdout",
     "output_type": "stream",
     "text": [
      "\n",
      "Enter a legal sentence to analyze sentiment (or type 'exit'): He is a Criminal.\n",
      "Predicted Sentiment: negative\n",
      "\n",
      "Enter a legal sentence to analyze sentiment (or type 'exit'): He is innocent.\n",
      "Predicted Sentiment: positive\n",
      "\n",
      "Enter a legal sentence to analyze sentiment (or type 'exit'): He is eating.\n",
      "Predicted Sentiment: neutral\n",
      "\n",
      "Enter a legal sentence to analyze sentiment (or type 'exit'): exit\n"
     ]
    }
   ],
   "source": [
    "# --- 12. Interactive Testing ---\n",
    "while True:\n",
    "    custom_input = input(\"\\nEnter a legal sentence to analyze sentiment (or type 'exit'): \").strip()\n",
    "    if custom_input.lower() == 'exit':\n",
    "        break\n",
    "    custom_prompt = instruction + f\"\\nsentence: {custom_input}\\nsentiment:\"\n",
    "    response = model.generate(custom_prompt)['results'][0]['generated_text']\n",
    "    print(f\"Predicted Sentiment: {response.strip().lower()}\")"
   ]
  },
  {
   "cell_type": "code",
   "execution_count": null,
   "metadata": {
    "id": "T1Bj5ayIdOpq"
   },
   "outputs": [],
   "source": []
  }
 ],
 "metadata": {
  "colab": {
   "authorship_tag": "ABX9TyOwYdulh8d5kdDb1Al6fdUi",
   "provenance": []
  },
  "kernelspec": {
   "display_name": "Python 3 (ipykernel)",
   "language": "python",
   "name": "python3"
  },
  "language_info": {
   "codemirror_mode": {
    "name": "ipython",
    "version": 3
   },
   "file_extension": ".py",
   "mimetype": "text/x-python",
   "name": "python",
   "nbconvert_exporter": "python",
   "pygments_lexer": "ipython3",
   "version": "3.12.4"
  }
 },
 "nbformat": 4,
 "nbformat_minor": 4
}
